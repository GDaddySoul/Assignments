{
 "cells": [
  {
   "cell_type": "markdown",
   "id": "0886b14d",
   "metadata": {},
   "source": [
    "<h1>Data Science Tools and Ecosystem"
   ]
  },
  {
   "cell_type": "markdown",
   "id": "cae31109",
   "metadata": {},
   "source": [
    "<h2>In this notebook, Data Science Tools and Ecosystem are summarized."
   ]
  },
  {
   "cell_type": "markdown",
   "id": "0f88e6c8",
   "metadata": {},
   "source": [
    "**Objectives:**\n",
    "* List popular DS Languages\n",
    "* List the most common Python libraries\n",
    "* List common IDE's\n",
    "* Do a bunch of Jupyter Lab markdown"
   ]
  },
  {
   "cell_type": "markdown",
   "id": "8ac23a76",
   "metadata": {},
   "source": [
    "**Some of the popular languages that Data Scientists use are:**\n",
    "1. Python\n",
    "1. R\n",
    "1. SQL"
   ]
  },
  {
   "cell_type": "markdown",
   "id": "06a83ac6",
   "metadata": {},
   "source": [
    "**Some of the commonly used libraries used by Data Scientists include:**\n",
    "1. Pandas\n",
    "1. Numpy\n",
    "1. Matplotlib"
   ]
  },
  {
   "cell_type": "markdown",
   "id": "972d4b1d",
   "metadata": {},
   "source": [
    "**Data Science Tools**\n",
    "|**Index**|**DS Tools**        |**Smart Guy Notes**|\n",
    "|:----|:-----------------|:--------------|\n",
    "|1    |Jupyter Notebook  |Used Here      |\n",
    "|2    |Jupyter Lab       |Simlar to This |\n",
    "|3    |Spyder            |Local IDE      |\n",
    "|4    |Visual Studio Code|Local IDE      |"
   ]
  },
  {
   "cell_type": "markdown",
   "id": "39136d41",
   "metadata": {},
   "source": [
    "<h3>Below are a few examples of evaluating arithmetic expressions in Python."
   ]
  },
  {
   "cell_type": "code",
   "execution_count": 2,
   "id": "0aec3d8a",
   "metadata": {},
   "outputs": [
    {
     "data": {
      "text/plain": [
       "17"
      ]
     },
     "execution_count": 2,
     "metadata": {},
     "output_type": "execute_result"
    }
   ],
   "source": [
    "# this a simple arithmetic expression to mutiply then add integers\n",
    "(3*4)+5"
   ]
  },
  {
   "cell_type": "code",
   "execution_count": 3,
   "id": "f08e6e95",
   "metadata": {},
   "outputs": [
    {
     "data": {
      "text/plain": [
       "3.3333333333333335"
      ]
     },
     "execution_count": 3,
     "metadata": {},
     "output_type": "execute_result"
    }
   ],
   "source": [
    "#This will convert 200 minutes to hours by diving by 60\n",
    "200/60"
   ]
  },
  {
   "cell_type": "markdown",
   "id": "327167af",
   "metadata": {},
   "source": [
    "## Author\n",
    "    Wilson Voelker"
   ]
  }
 ],
 "metadata": {
  "kernelspec": {
   "display_name": "Python 3 (ipykernel)",
   "language": "python",
   "name": "python3"
  },
  "language_info": {
   "codemirror_mode": {
    "name": "ipython",
    "version": 3
   },
   "file_extension": ".py",
   "mimetype": "text/x-python",
   "name": "python",
   "nbconvert_exporter": "python",
   "pygments_lexer": "ipython3",
   "version": "3.11.5"
  }
 },
 "nbformat": 4,
 "nbformat_minor": 5
}
